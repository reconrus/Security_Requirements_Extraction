{
 "cells": [
  {
   "cell_type": "code",
   "execution_count": 1,
   "metadata": {
    "id": "37lRYHX8DNUb"
   },
   "outputs": [],
   "source": [
    "import os\n",
    "from IPython.display import clear_output\n",
    "os.chdir('..')"
   ]
  },
  {
   "cell_type": "code",
   "execution_count": 2,
   "metadata": {},
   "outputs": [],
   "source": [
    "os.environ[\"CONFIG\"] = \"configs/base/base_cross_tf_os.yaml\""
   ]
  },
  {
   "cell_type": "code",
   "execution_count": 3,
   "metadata": {
    "id": "-ke_vThh2Uc8"
   },
   "outputs": [],
   "source": [
    "from constants import DATASETS_CONFIG_PATH\n",
    "\n",
    "configuration = \"\"\"\n",
    "train_datasets:\n",
    "  promise:\n",
    "    - all\n",
    "valid_datasets:\n",
    "  secreq:\n",
    "    - ePurse-selective\n",
    "\"\"\"\n",
    "\n",
    "with open(DATASETS_CONFIG_PATH, \"w+\") as f:\n",
    "  f.write(configuration)"
   ]
  },
  {
   "cell_type": "code",
   "execution_count": 4,
   "metadata": {
    "colab": {
     "base_uri": "https://localhost:8080/"
    },
    "id": "w2IeeyYh3tcC",
    "outputId": "435f474f-bd67-441e-feff-ee5121f1d03d"
   },
   "outputs": [
    {
     "name": "stderr",
     "output_type": "stream",
     "text": [
      "mkdir: cannot create directory ‘raw’: File exists\n"
     ]
    }
   ],
   "source": [
    "%%bash\n",
    "cd data\n",
    "chmod +x get_dataset.sh\n",
    "./get_dataset.sh"
   ]
  },
  {
   "cell_type": "code",
   "execution_count": 5,
   "metadata": {},
   "outputs": [],
   "source": [
    "!python3 data/prepare_data.py --config_path $CONFIG \\\n",
    "    --sec_req data/raw/SecReq --promise data/raw/nfr/nfr.arff \\\n",
    "    --concord data/raw/NFRClassifier/gate/application-resources/Requirements/ \\\n",
    "    --cchit data/raw/CCHIT.xls --owasp data/raw/OWASP -o data/processed"
   ]
  },
  {
   "cell_type": "code",
   "execution_count": 6,
   "metadata": {
    "colab": {
     "base_uri": "https://localhost:8080/"
    },
    "id": "pnpLFLm46PS9",
    "outputId": "6aefe82d-ab43-4c54-8b49-4b0e22fd280f"
   },
   "outputs": [
    {
     "name": "stdout",
     "output_type": "stream",
     "text": [
      "[W Context.cpp:70] Warning: torch.use_deterministic_algorithms is in beta, and its design and functionality may change in the future. (function operator())\n",
      "  0%|                                                   | 0/960 [00:00<?, ?it/s]Traceback (most recent call last):\n",
      "  File \"train.py\", line 179, in <module>\n",
      "    train_and_evaluate(model_type=configuration.model_type,\n",
      "  File \"train.py\", line 147, in train_and_evaluate\n",
      "    metrics = cross_evaluation(model_type=model_type,\n",
      "  File \"train.py\", line 119, in cross_evaluation\n",
      "    evaluation = train(model_type, epochs, labels_data, seed)\n",
      "  File \"train.py\", line 73, in train\n",
      "    trainer.train()\n",
      "  File \"/home/hawk/anaconda3/envs/thesis/lib/python3.8/site-packages/transformers/trainer.py\", line 940, in train\n",
      "    tr_loss += self.training_step(model, inputs)\n",
      "  File \"/home/hawk/anaconda3/envs/thesis/lib/python3.8/site-packages/transformers/trainer.py\", line 1320, in training_step\n",
      "    loss.backward()\n",
      "  File \"/home/hawk/anaconda3/envs/thesis/lib/python3.8/site-packages/torch/tensor.py\", line 245, in backward\n",
      "    torch.autograd.backward(self, gradient, retain_graph, create_graph, inputs=inputs)\n",
      "  File \"/home/hawk/anaconda3/envs/thesis/lib/python3.8/site-packages/torch/autograd/__init__.py\", line 145, in backward\n",
      "    Variable._execution_engine.run_backward(\n",
      "RuntimeError: CUDA out of memory. Tried to allocate 96.00 MiB (GPU 0; 2.95 GiB total capacity; 1.59 GiB already allocated; 79.19 MiB free; 1.80 GiB reserved in total by PyTorch)\n",
      "  0%|                                                   | 0/960 [00:00<?, ?it/s]\n"
     ]
    }
   ],
   "source": [
    "!CUBLAS_WORKSPACE_CONFIG=:4096:8 python3 train.py $CONFIG"
   ]
  },
  {
   "cell_type": "code",
   "execution_count": null,
   "metadata": {},
   "outputs": [],
   "source": []
  }
 ],
 "metadata": {
  "accelerator": "GPU",
  "colab": {
   "collapsed_sections": [],
   "name": "cross-validation.ipynb",
   "provenance": []
  },
  "kernelspec": {
   "display_name": "Python 3",
   "language": "python",
   "name": "python3"
  },
  "language_info": {
   "codemirror_mode": {
    "name": "ipython",
    "version": 3
   },
   "file_extension": ".py",
   "mimetype": "text/x-python",
   "name": "python",
   "nbconvert_exporter": "python",
   "pygments_lexer": "ipython3",
   "version": "3.8.5"
  },
  "metadata": {
   "interpreter": {
    "hash": "2bf9bb5be2a99e5f4dd39322b0e399c7453a7e9d3842b7e9ec3bf7e97c0a7741"
   }
  }
 },
 "nbformat": 4,
 "nbformat_minor": 1
}
