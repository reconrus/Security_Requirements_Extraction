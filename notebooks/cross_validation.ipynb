{
  "nbformat": 4,
  "nbformat_minor": 0,
  "metadata": {
    "colab": {
      "name": "cross-validation.ipynb",
      "provenance": [],
      "collapsed_sections": []
    },
    "kernelspec": {
      "name": "python385jvsc74a57bd0a602879752c01d8cf7ae0a7a03c09dd0f35aafacb7aebbb98d513c869aafd138",
      "display_name": "Python 3.8.5 64-bit ('thesis': conda)"
    },
    "language_info": {
      "name": "python",
      "version": "3.8.5"
    },
    "accelerator": "GPU"
  },
  "cells": [
    {
      "cell_type": "code",
      "metadata": {
        "id": "37lRYHX8DNUb"
      },
      "source": [
        "import os\n",
        "from IPython.display import clear_output\n",
        "os.chdir('..')"
      ],
      "execution_count": 1,
      "outputs": []
    },
    {
      "cell_type": "code",
      "execution_count": 2,
      "metadata": {},
      "outputs": [],
      "source": [
        "os.environ[\"CONFIG\"] = \"configs\\small\\small_cross_os.yaml\""
      ]
    },
    {
      "cell_type": "code",
      "metadata": {
        "id": "-ke_vThh2Uc8"
      },
      "source": [
        "from constants import DATASETS_CONFIG_PATH\n",
        "\n",
        "configuration = \"\"\"\n",
        "train_datasets:\n",
        "  promise:\n",
        "    - all\n",
        "valid_datasets:\n",
        "  secreq:\n",
        "    - ePurse-selective\n",
        "\"\"\"\n",
        "\n",
        "with open(DATASETS_CONFIG_PATH, \"w+\") as f:\n",
        "  f.write(configuration)"
      ],
      "execution_count": 4,
      "outputs": []
    },
    {
      "cell_type": "code",
      "metadata": {
        "id": "w2IeeyYh3tcC",
        "colab": {
          "base_uri": "https://localhost:8080/"
        },
        "outputId": "435f474f-bd67-441e-feff-ee5121f1d03d"
      },
      "source": [
        "%%bash\n",
        "cd data\n",
        "chmod +x get_dataset.sh\n",
        "./get_dataset.sh\n",
        "python3 -c \"from IPython.display import clear_output; clear_output()\"\n",
        "python3 prepare_data.py --config_path $CONFIG \\ \n",
        "    --sec_req ./raw/SecReq --promise ./raw/nfr/nfr.arff \\\n",
        "    --concord ./raw/NFRClassifier/gate/application-resources/Requirements/ \\\n",
        "    --cchit ./raw/CCHIT.xls --owasp ./raw/OWASP"
      ],
      "execution_count": 5,
      "outputs": [
        {
          "output_type": "stream",
          "name": "stdout",
          "text": [
            "Couldn't find program: 'bash'\n"
          ]
        }
      ]
    },
    {
      "cell_type": "code",
      "metadata": {
        "colab": {
          "base_uri": "https://localhost:8080/"
        },
        "id": "pnpLFLm46PS9",
        "outputId": "6aefe82d-ab43-4c54-8b49-4b0e22fd280f"
      },
      "source": [
        "!python3 train.py $CONFIG"
      ],
      "execution_count": null,
      "outputs": [
        {
          "output_type": "stream",
          "text": [
            "Traceback (most recent call last):\n",
            "  File \"train.py\", line 10, in <module>\n",
            "    from transformers import (\n",
            "ModuleNotFoundError: No module named 'transformers'\n"
          ],
          "name": "stdout"
        }
      ]
    }
  ]
}