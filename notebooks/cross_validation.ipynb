{
 "cells": [
  {
   "cell_type": "code",
   "execution_count": 1,
   "metadata": {
    "id": "37lRYHX8DNUb"
   },
   "outputs": [],
   "source": [
    "import os\n",
    "from IPython.display import clear_output\n",
    "os.chdir('..')"
   ]
  },
  {
   "cell_type": "code",
   "execution_count": 2,
   "metadata": {},
   "outputs": [],
   "source": [
    "os.environ[\"CONFIG\"] = \"configs/small/small_cross.yaml\""
   ]
  },
  {
   "cell_type": "code",
   "execution_count": 3,
   "metadata": {
    "id": "-ke_vThh2Uc8"
   },
   "outputs": [],
   "source": [
    "from constants import DATASETS_CONFIG_PATH\n",
    "\n",
    "configuration = \"\"\"\n",
    "train_datasets:\n",
    "  promise:\n",
    "    - all\n",
    "valid_datasets:\n",
    "  secreq:\n",
    "    - ePurse-selective\n",
    "\"\"\"\n",
    "\n",
    "with open(DATASETS_CONFIG_PATH, \"w+\") as f:\n",
    "  f.write(configuration)"
   ]
  },
  {
   "cell_type": "code",
   "execution_count": 4,
   "metadata": {
    "colab": {
     "base_uri": "https://localhost:8080/"
    },
    "id": "w2IeeyYh3tcC",
    "outputId": "435f474f-bd67-441e-feff-ee5121f1d03d"
   },
   "outputs": [
    {
     "output_type": "stream",
     "name": "stderr",
     "text": [
      "mkdir: cannot create directory ‘raw’: File exists\n"
     ]
    }
   ],
   "source": [
    "%%bash\n",
    "cd data\n",
    "chmod +x get_dataset.sh\n",
    "./get_dataset.sh"
   ]
  },
  {
   "cell_type": "code",
   "execution_count": 5,
   "metadata": {},
   "outputs": [],
   "source": [
    "!python3 data/prepare_data.py --config_path $CONFIG \\\n",
    "    --sec_req data/raw/SecReq --promise data/raw/nfr/nfr.arff \\\n",
    "    --concord data/raw/NFRClassifier/gate/application-resources/Requirements/ \\\n",
    "    --cchit data/raw/CCHIT.xls --owasp data/raw/OWASP -o data/processed"
   ]
  },
  {
   "cell_type": "code",
   "execution_count": 6,
   "metadata": {
    "colab": {
     "base_uri": "https://localhost:8080/"
    },
    "id": "pnpLFLm46PS9",
    "outputId": "6aefe82d-ab43-4c54-8b49-4b0e22fd280f",
    "tags": [
     "outputPrepend"
    ]
   },
   "outputs": [
    {
     "output_type": "stream",
     "name": "stdout",
     "text": [
      "vision` parameter to control this behavior.\n",
      "  _warn_prf(average, modifier, msg_start, len(result))\n",
      "\n",
      "{'eval_loss': 0.38633617758750916, 'eval_accuracy': 0.9032258064516129, 'eval_f1': 0.0, 'eval_precision': 0.0, 'eval_recall': 0.0, 'eval_runtime': 0.25, 'eval_samples_per_second': 247.983, 'epoch': 3.0}\n",
      "\n",
      " 15%|██████                                  | 213/1420 [00:44<02:41,  7.46it/s]\n",
      " 20%|████████                                | 284/1420 [01:05<02:36,  7.27it/s]\n",
      "  0%|                                                     | 0/8 [00:00<?, ?it/s]\u001b[A\n",
      " 62%|████████████████████████████▏                | 5/8 [00:00<00:00, 46.86it/s]\u001b[A/home/hawk/anaconda3/envs/thesis/lib/python3.8/site-packages/sklearn/metrics/_classification.py:1245: UndefinedMetricWarning: Precision and F-score are ill-defined and being set to 0.0 due to no predicted samples. Use `zero_division` parameter to control this behavior.\n",
      "  _warn_prf(average, modifier, msg_start, len(result))\n",
      "\n",
      "{'eval_loss': 0.1987941861152649, 'eval_accuracy': 0.9032258064516129, 'eval_f1': 0.0, 'eval_precision': 0.0, 'eval_recall': 0.0, 'eval_runtime': 0.2511, 'eval_samples_per_second': 246.933, 'epoch': 4.0}\n",
      "\n",
      " 20%|████████                                | 284/1420 [01:05<02:36,  7.27it/s]\n",
      " 25%|██████████                              | 355/1420 [01:24<02:21,  7.50it/s]\n",
      "  0%|                                                     | 0/8 [00:00<?, ?it/s]\u001b[A\n",
      " 62%|████████████████████████████▏                | 5/8 [00:00<00:00, 46.79it/s]\u001b[A/home/hawk/anaconda3/envs/thesis/lib/python3.8/site-packages/sklearn/metrics/_classification.py:1245: UndefinedMetricWarning: Precision and F-score are ill-defined and being set to 0.0 due to no predicted samples. Use `zero_division` parameter to control this behavior.\n",
      "  _warn_prf(average, modifier, msg_start, len(result))\n",
      "\n",
      "{'eval_loss': 0.12113995105028152, 'eval_accuracy': 0.9032258064516129, 'eval_f1': 0.0, 'eval_precision': 0.0, 'eval_recall': 0.0, 'eval_runtime': 0.2523, 'eval_samples_per_second': 245.761, 'epoch': 5.0}\n",
      "\n",
      " 25%|██████████                              | 355/1420 [01:24<02:21,  7.50it/s]\n",
      " 30%|████████████                            | 426/1420 [01:44<02:12,  7.52it/s]\n",
      "  0%|                                                     | 0/8 [00:00<?, ?it/s]\u001b[A\n",
      " 62%|████████████████████████████▏                | 5/8 [00:00<00:00, 48.10it/s]\u001b[A\n",
      "{'eval_loss': 0.057409968227148056, 'eval_accuracy': 0.9193548387096774, 'eval_f1': 0.2857142857142857, 'eval_precision': 1.0, 'eval_recall': 0.16666666666666666, 'eval_runtime': 0.2518, 'eval_samples_per_second': 246.246, 'epoch': 6.0}\n",
      "\n",
      " 30%|████████████                            | 426/1420 [01:45<02:12,  7.52it/s]\n",
      " 35%|██████████████                          | 497/1420 [02:03<02:03,  7.49it/s]\n",
      "  0%|                                                     | 0/8 [00:00<?, ?it/s]\u001b[A\n",
      " 62%|████████████████████████████▏                | 5/8 [00:00<00:00, 47.54it/s]\u001b[A\n",
      "{'eval_loss': 0.07287845015525818, 'eval_accuracy': 0.9193548387096774, 'eval_f1': 0.2857142857142857, 'eval_precision': 1.0, 'eval_recall': 0.16666666666666666, 'eval_runtime': 0.2492, 'eval_samples_per_second': 248.828, 'epoch': 7.0}\n",
      "\n",
      " 35%|██████████████                          | 497/1420 [02:03<02:03,  7.49it/s]\n",
      "{'loss': 2.4655, 'learning_rate': 4.107142857142857e-05, 'epoch': 7.04}\n",
      " 40%|████████████████                        | 568/1420 [02:26<01:55,  7.39it/s]\n",
      "  0%|                                                     | 0/8 [00:00<?, ?it/s]\u001b[A\n",
      " 62%|████████████████████████████▏                | 5/8 [00:00<00:00, 48.08it/s]\u001b[A\n",
      "{'eval_loss': 0.04743711277842522, 'eval_accuracy': 0.9516129032258065, 'eval_f1': 0.6666666666666666, 'eval_precision': 1.0, 'eval_recall': 0.5, 'eval_runtime': 0.2472, 'eval_samples_per_second': 250.829, 'epoch': 8.0}\n",
      "\n",
      " 40%|████████████████                        | 568/1420 [02:26<01:55,  7.39it/s]\n",
      " 45%|██████████████████                      | 639/1420 [02:45<01:42,  7.61it/s]\n",
      "  0%|                                                     | 0/8 [00:00<?, ?it/s]\u001b[A\n",
      " 62%|████████████████████████████▏                | 5/8 [00:00<00:00, 46.97it/s]\u001b[A\n",
      "{'eval_loss': 0.03824784606695175, 'eval_accuracy': 0.9516129032258065, 'eval_f1': 0.6666666666666666, 'eval_precision': 1.0, 'eval_recall': 0.5, 'eval_runtime': 0.2501, 'eval_samples_per_second': 247.922, 'epoch': 9.0}\n",
      "\n",
      " 45%|██████████████████                      | 639/1420 [02:45<01:42,  7.61it/s]\n",
      " 50%|████████████████████                    | 710/1420 [03:06<01:32,  7.68it/s]\n",
      "  0%|                                                     | 0/8 [00:00<?, ?it/s]\u001b[A\n",
      " 62%|████████████████████████████▏                | 5/8 [00:00<00:00, 47.50it/s]\u001b[A\n",
      "{'eval_loss': 0.030767293646931648, 'eval_accuracy': 0.9516129032258065, 'eval_f1': 0.6666666666666666, 'eval_precision': 1.0, 'eval_recall': 0.5, 'eval_runtime': 0.2514, 'eval_samples_per_second': 246.592, 'epoch': 10.0}\n",
      "\n",
      " 50%|████████████████████                    | 710/1420 [03:06<01:32,  7.68it/s]\n",
      " 55%|██████████████████████                  | 781/1420 [03:29<01:26,  7.38it/s]\n",
      "  0%|                                                     | 0/8 [00:00<?, ?it/s]\u001b[A\n",
      " 62%|████████████████████████████▏                | 5/8 [00:00<00:00, 47.01it/s]\u001b[A\n",
      "{'eval_loss': 0.02328340895473957, 'eval_accuracy': 0.967741935483871, 'eval_f1': 0.8, 'eval_precision': 1.0, 'eval_recall': 0.6666666666666666, 'eval_runtime': 0.2603, 'eval_samples_per_second': 238.204, 'epoch': 11.0}\n",
      "\n",
      " 55%|██████████████████████                  | 781/1420 [03:29<01:26,  7.38it/s]\n",
      " 60%|████████████████████████                | 852/1420 [03:49<01:15,  7.56it/s]\n",
      "  0%|                                                     | 0/8 [00:00<?, ?it/s]\u001b[A\n",
      " 62%|████████████████████████████▏                | 5/8 [00:00<00:00, 46.73it/s]\u001b[A\n",
      "{'eval_loss': 0.007824174128472805, 'eval_accuracy': 1.0, 'eval_f1': 1.0, 'eval_precision': 1.0, 'eval_recall': 1.0, 'eval_runtime': 0.2498, 'eval_samples_per_second': 248.243, 'epoch': 12.0}\n",
      "\n",
      " 60%|████████████████████████                | 852/1420 [03:49<01:15,  7.56it/s]\n",
      "{'train_runtime': 241.142, 'train_samples_per_second': 5.889, 'epoch': 12.0}\n",
      " 60%|████████████████████████                | 852/1420 [04:01<02:40,  3.53it/s]\n",
      "100%|█████████████████████████████████████████████| 8/8 [00:00<00:00, 36.37it/s]\n",
      "100%|█████████████████████████████████████████████| 8/8 [00:00<00:00, 37.80it/s]\n",
      "  5%|██                                       | 71/1420 [00:10<03:01,  7.44it/s]\n",
      "  0%|                                                     | 0/8 [00:00<?, ?it/s]\u001b[A\n",
      " 62%|████████████████████████████▏                | 5/8 [00:00<00:00, 48.10it/s]\u001b[A\n",
      "{'eval_loss': 7.134184837341309, 'eval_accuracy': 0.0, 'eval_f1': 0.0, 'eval_precision': 0.0, 'eval_recall': 0.0, 'eval_runtime': 0.2446, 'eval_samples_per_second': 253.47, 'epoch': 1.0}\n",
      "\n",
      "  5%|██                                       | 71/1420 [00:10<03:01,  7.44it/s]\n",
      " 10%|████                                    | 142/1420 [00:36<02:53,  7.38it/s]\n",
      "  0%|                                                     | 0/8 [00:00<?, ?it/s]\u001b[A\n",
      " 62%|████████████████████████████▏                | 5/8 [00:00<00:00, 49.55it/s]\u001b[A\n",
      "{'eval_loss': 1.7298505306243896, 'eval_accuracy': 0.0967741935483871, 'eval_f1': 0.0, 'eval_precision': 0.0, 'eval_recall': 0.0, 'eval_runtime': 0.24, 'eval_samples_per_second': 258.294, 'epoch': 2.0}\n",
      "\n",
      " 10%|████                                    | 142/1420 [00:36<02:53,  7.38it/s]\n",
      " 15%|██████                                  | 213/1420 [00:50<02:42,  7.41it/s]\n",
      "  0%|                                                     | 0/8 [00:00<?, ?it/s]\u001b[A\n",
      " 62%|████████████████████████████▏                | 5/8 [00:00<00:00, 49.52it/s]\u001b[A/home/hawk/anaconda3/envs/thesis/lib/python3.8/site-packages/sklearn/metrics/_classification.py:1245: UndefinedMetricWarning: Precision and F-score are ill-defined and being set to 0.0 due to no predicted samples. Use `zero_division` parameter to control this behavior.\n",
      "  _warn_prf(average, modifier, msg_start, len(result))\n",
      "\n",
      "{'eval_loss': 0.5058993697166443, 'eval_accuracy': 0.8870967741935484, 'eval_f1': 0.0, 'eval_precision': 0.0, 'eval_recall': 0.0, 'eval_runtime': 0.2377, 'eval_samples_per_second': 260.86, 'epoch': 3.0}\n",
      "\n",
      " 15%|██████                                  | 213/1420 [00:50<02:42,  7.41it/s]\n",
      " 20%|████████                                | 284/1420 [01:12<02:30,  7.57it/s]\n",
      "  0%|                                                     | 0/8 [00:00<?, ?it/s]\u001b[A\n",
      " 62%|████████████████████████████▏                | 5/8 [00:00<00:00, 46.40it/s]\u001b[A/home/hawk/anaconda3/envs/thesis/lib/python3.8/site-packages/sklearn/metrics/_classification.py:1245: UndefinedMetricWarning: Precision and F-score are ill-defined and being set to 0.0 due to no predicted samples. Use `zero_division` parameter to control this behavior.\n",
      "  _warn_prf(average, modifier, msg_start, len(result))\n",
      "\n",
      "{'eval_loss': 0.21948450803756714, 'eval_accuracy': 0.8870967741935484, 'eval_f1': 0.0, 'eval_precision': 0.0, 'eval_recall': 0.0, 'eval_runtime': 0.2474, 'eval_samples_per_second': 250.625, 'epoch': 4.0}\n",
      "\n",
      " 20%|████████                                | 284/1420 [01:12<02:30,  7.57it/s]\n",
      " 25%|██████████                              | 355/1420 [01:31<02:25,  7.33it/s]\n",
      "  0%|                                                     | 0/8 [00:00<?, ?it/s]\u001b[A\n",
      " 62%|████████████████████████████▏                | 5/8 [00:00<00:00, 45.37it/s]\u001b[A/home/hawk/anaconda3/envs/thesis/lib/python3.8/site-packages/sklearn/metrics/_classification.py:1245: UndefinedMetricWarning: Precision and F-score are ill-defined and being set to 0.0 due to no predicted samples. Use `zero_division` parameter to control this behavior.\n",
      "  _warn_prf(average, modifier, msg_start, len(result))\n",
      "\n",
      "{'eval_loss': 0.1700056791305542, 'eval_accuracy': 0.8870967741935484, 'eval_f1': 0.0, 'eval_precision': 0.0, 'eval_recall': 0.0, 'eval_runtime': 0.2561, 'eval_samples_per_second': 242.077, 'epoch': 5.0}\n",
      "\n",
      " 25%|██████████                              | 355/1420 [01:32<02:25,  7.33it/s]\n",
      " 30%|████████████                            | 426/1420 [02:06<02:15,  7.31it/s]\n",
      "  0%|                                                     | 0/8 [00:00<?, ?it/s]\u001b[A\n",
      " 62%|████████████████████████████▏                | 5/8 [00:00<00:00, 44.55it/s]\u001b[A/home/hawk/anaconda3/envs/thesis/lib/python3.8/site-packages/sklearn/metrics/_classification.py:1245: UndefinedMetricWarning: Precision and F-score are ill-defined and being set to 0.0 due to no predicted samples. Use `zero_division` parameter to control this behavior.\n",
      "  _warn_prf(average, modifier, msg_start, len(result))\n",
      "\n",
      "{'eval_loss': 0.14518682658672333, 'eval_accuracy': 0.8870967741935484, 'eval_f1': 0.0, 'eval_precision': 0.0, 'eval_recall': 0.0, 'eval_runtime': 0.2606, 'eval_samples_per_second': 237.949, 'epoch': 6.0}\n",
      "\n",
      " 30%|████████████                            | 426/1420 [02:07<02:15,  7.31it/s]\n",
      " 35%|██████████████                          | 497/1420 [02:41<02:09,  7.13it/s]\n",
      "  0%|                                                     | 0/8 [00:00<?, ?it/s]\u001b[A\n",
      " 62%|████████████████████████████▏                | 5/8 [00:00<00:00, 42.27it/s]\u001b[A\n",
      "{'eval_loss': 0.06749720126390457, 'eval_accuracy': 0.9193548387096774, 'eval_f1': 0.4444444444444445, 'eval_precision': 1.0, 'eval_recall': 0.2857142857142857, 'eval_runtime': 0.2699, 'eval_samples_per_second': 229.682, 'epoch': 7.0}\n",
      "\n",
      " 35%|██████████████                          | 497/1420 [02:41<02:09,  7.13it/s]\n",
      "{'loss': 2.4671, 'learning_rate': 4.107142857142857e-05, 'epoch': 7.04}\n",
      " 40%|████████████████                        | 568/1420 [03:04<01:59,  7.14it/s]\n",
      "  0%|                                                     | 0/8 [00:00<?, ?it/s]\u001b[A\n",
      " 62%|████████████████████████████▏                | 5/8 [00:00<00:00, 45.23it/s]\u001b[A\n",
      "{'eval_loss': 0.05517882853746414, 'eval_accuracy': 0.9354838709677419, 'eval_f1': 0.6666666666666666, 'eval_precision': 0.8, 'eval_recall': 0.5714285714285714, 'eval_runtime': 0.2601, 'eval_samples_per_second': 238.391, 'epoch': 8.0}\n",
      "\n",
      " 40%|████████████████                        | 568/1420 [03:05<01:59,  7.14it/s]\n",
      " 45%|██████████████████                      | 639/1420 [03:26<01:45,  7.38it/s]\n",
      "  0%|                                                     | 0/8 [00:00<?, ?it/s]\u001b[A\n",
      " 62%|████████████████████████████▏                | 5/8 [00:00<00:00, 46.31it/s]\u001b[A\n",
      "{'eval_loss': 0.07587110251188278, 'eval_accuracy': 0.9193548387096774, 'eval_f1': 0.7058823529411764, 'eval_precision': 0.6, 'eval_recall': 0.8571428571428571, 'eval_runtime': 0.2533, 'eval_samples_per_second': 244.801, 'epoch': 9.0}\n",
      "\n",
      " 45%|██████████████████                      | 639/1420 [03:26<01:45,  7.38it/s]\n",
      " 50%|████████████████████                    | 710/1420 [04:01<01:34,  7.50it/s]\n",
      "  0%|                                                     | 0/8 [00:00<?, ?it/s]\u001b[A\n",
      " 62%|████████████████████████████▏                | 5/8 [00:00<00:00, 46.31it/s]\u001b[A\n",
      "{'eval_loss': 0.055602822452783585, 'eval_accuracy': 0.9516129032258065, 'eval_f1': 0.7692307692307692, 'eval_precision': 0.8333333333333334, 'eval_recall': 0.7142857142857143, 'eval_runtime': 0.2532, 'eval_samples_per_second': 244.826, 'epoch': 10.0}\n",
      "\n",
      " 50%|████████████████████                    | 710/1420 [04:01<01:34,  7.50it/s]\n",
      " 55%|██████████████████████                  | 781/1420 [04:15<01:27,  7.34it/s]\n",
      "  0%|                                                     | 0/8 [00:00<?, ?it/s]\u001b[A\n",
      " 62%|████████████████████████████▏                | 5/8 [00:00<00:00, 45.93it/s]\u001b[A\n",
      "{'eval_loss': 0.03651907667517662, 'eval_accuracy': 0.967741935483871, 'eval_f1': 0.8571428571428571, 'eval_precision': 0.8571428571428571, 'eval_recall': 0.8571428571428571, 'eval_runtime': 0.2597, 'eval_samples_per_second': 238.739, 'epoch': 11.0}\n",
      "\n",
      " 55%|██████████████████████                  | 781/1420 [04:16<01:27,  7.34it/s]\n",
      " 60%|████████████████████████                | 852/1420 [04:38<01:17,  7.29it/s]\n",
      "  0%|                                                     | 0/8 [00:00<?, ?it/s]\u001b[A\n",
      " 62%|████████████████████████████▏                | 5/8 [00:00<00:00, 44.43it/s]\u001b[A\n",
      "{'eval_loss': 0.03921206668019295, 'eval_accuracy': 0.9516129032258065, 'eval_f1': 0.7692307692307692, 'eval_precision': 0.8333333333333334, 'eval_recall': 0.7142857142857143, 'eval_runtime': 0.2596, 'eval_samples_per_second': 238.872, 'epoch': 12.0}\n",
      "\n",
      " 60%|████████████████████████                | 852/1420 [04:38<01:17,  7.29it/s]\n",
      " 65%|██████████████████████████              | 923/1420 [04:59<01:05,  7.56it/s]\n",
      "  0%|                                                     | 0/8 [00:00<?, ?it/s]\u001b[A\n",
      " 62%|████████████████████████████▏                | 5/8 [00:00<00:00, 45.38it/s]\u001b[A\n",
      "{'eval_loss': 0.06394393742084503, 'eval_accuracy': 0.9193548387096774, 'eval_f1': 0.7058823529411764, 'eval_precision': 0.6, 'eval_recall': 0.8571428571428571, 'eval_runtime': 0.2564, 'eval_samples_per_second': 241.788, 'epoch': 13.0}\n",
      "\n",
      " 65%|██████████████████████████              | 923/1420 [04:59<01:05,  7.56it/s]\n",
      " 70%|████████████████████████████            | 994/1420 [05:18<00:58,  7.34it/s]\n",
      "  0%|                                                     | 0/8 [00:00<?, ?it/s]\u001b[A\n",
      " 62%|████████████████████████████▏                | 5/8 [00:00<00:00, 44.97it/s]\u001b[A\n",
      "{'eval_loss': 0.03358655050396919, 'eval_accuracy': 0.967741935483871, 'eval_f1': 0.8571428571428571, 'eval_precision': 0.8571428571428571, 'eval_recall': 0.8571428571428571, 'eval_runtime': 0.2565, 'eval_samples_per_second': 241.723, 'epoch': 14.0}\n",
      "\n",
      " 70%|████████████████████████████            | 994/1420 [05:18<00:58,  7.34it/s]\n",
      "{'loss': 0.0483, 'learning_rate': 1.8750000000000002e-05, 'epoch': 14.08}\n",
      " 75%|█████████████████████████████▎         | 1065/1420 [05:39<00:48,  7.25it/s]\n",
      "  0%|                                                     | 0/8 [00:00<?, ?it/s]\u001b[A\n",
      " 62%|████████████████████████████▏                | 5/8 [00:00<00:00, 45.76it/s]\u001b[A\n",
      "{'eval_loss': 0.029702913016080856, 'eval_accuracy': 0.967741935483871, 'eval_f1': 0.8571428571428571, 'eval_precision': 0.8571428571428571, 'eval_recall': 0.8571428571428571, 'eval_runtime': 0.2569, 'eval_samples_per_second': 241.349, 'epoch': 15.0}\n",
      "\n",
      " 75%|█████████████████████████████▎         | 1065/1420 [05:39<00:48,  7.25it/s]\n",
      " 80%|███████████████████████████████▏       | 1136/1420 [06:01<00:38,  7.46it/s]\n",
      "  0%|                                                     | 0/8 [00:00<?, ?it/s]\u001b[A\n",
      " 62%|████████████████████████████▏                | 5/8 [00:00<00:00, 44.62it/s]\u001b[A\n",
      "{'eval_loss': 0.02985241264104843, 'eval_accuracy': 0.967741935483871, 'eval_f1': 0.8571428571428571, 'eval_precision': 0.8571428571428571, 'eval_recall': 0.8571428571428571, 'eval_runtime': 0.2579, 'eval_samples_per_second': 240.403, 'epoch': 16.0}\n",
      "\n",
      " 80%|███████████████████████████████▏       | 1136/1420 [06:01<00:38,  7.46it/s]\n",
      " 85%|█████████████████████████████████▏     | 1207/1420 [06:38<00:28,  7.58it/s]\n",
      "  0%|                                                     | 0/8 [00:00<?, ?it/s]\u001b[A\n",
      " 62%|████████████████████████████▏                | 5/8 [00:00<00:00, 45.47it/s]\u001b[A\n",
      "{'eval_loss': 0.0337771400809288, 'eval_accuracy': 0.967741935483871, 'eval_f1': 0.8571428571428571, 'eval_precision': 0.8571428571428571, 'eval_recall': 0.8571428571428571, 'eval_runtime': 0.2557, 'eval_samples_per_second': 242.507, 'epoch': 17.0}\n",
      "\n",
      " 85%|█████████████████████████████████▏     | 1207/1420 [06:39<00:28,  7.58it/s]\n",
      " 90%|███████████████████████████████████    | 1278/1420 [06:53<00:19,  7.35it/s]\n",
      "  0%|                                                     | 0/8 [00:00<?, ?it/s]\u001b[A\n",
      " 62%|████████████████████████████▏                | 5/8 [00:00<00:00, 45.42it/s]\u001b[A\n",
      "{'eval_loss': 0.03816632926464081, 'eval_accuracy': 0.967741935483871, 'eval_f1': 0.8571428571428571, 'eval_precision': 0.8571428571428571, 'eval_recall': 0.8571428571428571, 'eval_runtime': 0.2567, 'eval_samples_per_second': 241.509, 'epoch': 18.0}\n",
      "\n",
      " 90%|███████████████████████████████████    | 1278/1420 [06:53<00:19,  7.35it/s]\n",
      " 95%|█████████████████████████████████████  | 1349/1420 [07:12<00:09,  7.40it/s]\n",
      "  0%|                                                     | 0/8 [00:00<?, ?it/s]\u001b[A\n",
      " 62%|████████████████████████████▏                | 5/8 [00:00<00:00, 45.64it/s]\u001b[A\n",
      "{'eval_loss': 0.03521500155329704, 'eval_accuracy': 0.967741935483871, 'eval_f1': 0.8571428571428571, 'eval_precision': 0.8571428571428571, 'eval_recall': 0.8571428571428571, 'eval_runtime': 0.2568, 'eval_samples_per_second': 241.451, 'epoch': 19.0}\n",
      "\n",
      " 95%|█████████████████████████████████████  | 1349/1420 [07:12<00:09,  7.40it/s]\n",
      "100%|███████████████████████████████████████| 1420/1420 [07:34<00:00,  7.29it/s]\n",
      "  0%|                                                     | 0/8 [00:00<?, ?it/s]\u001b[A\n",
      " 62%|████████████████████████████▏                | 5/8 [00:00<00:00, 45.70it/s]\u001b[A\n",
      "{'eval_loss': 0.03297582268714905, 'eval_accuracy': 0.967741935483871, 'eval_f1': 0.8571428571428571, 'eval_precision': 0.8571428571428571, 'eval_recall': 0.8571428571428571, 'eval_runtime': 0.2548, 'eval_samples_per_second': 243.35, 'epoch': 20.0}\n",
      "\n",
      "100%|███████████████████████████████████████| 1420/1420 [07:34<00:00,  7.29it/s]\n",
      "{'train_runtime': 468.5485, 'train_samples_per_second': 3.031, 'epoch': 20.0}\n",
      "100%|███████████████████████████████████████| 1420/1420 [07:48<00:00,  3.03it/s]\n",
      "100%|█████████████████████████████████████████████| 8/8 [00:00<00:00, 35.95it/s]\n",
      "100%|█████████████████████████████████████████████| 8/8 [00:00<00:00, 37.24it/s]\n",
      "Evaluation results: \n",
      "\n",
      "Invalid predictions set as incorrect:  {'eval_loss': 0.040489360317587854, 'eval_accuracy': 0.9727598566308245, 'eval_f1': 0.8565567765567765, 'eval_precision': 0.9261904761904762, 'eval_recall': 0.8142857142857144, 'eval_runtime': 0.27447, 'eval_samples_per_second': 229.1748, 'epoch': 15.8}\n",
      "Invalid predictions set as security:  {'eval_loss': 0.040489360317587854, 'eval_accuracy': 0.9919866871479777, 'eval_f1': 0.9657142857142859, 'eval_precision': 0.9375, 'eval_recall': 1.0, 'eval_runtime': 0.26786999999999994, 'eval_samples_per_second': 235.02909999999997, 'epoch': 15.8}\n"
     ]
    }
   ],
   "source": [
    "!CUBLAS_WORKSPACE_CONFIG=:4096:8 python3 train.py $CONFIG"
   ]
  },
  {
   "cell_type": "code",
   "execution_count": null,
   "metadata": {},
   "outputs": [],
   "source": []
  }
 ],
 "metadata": {
  "accelerator": "GPU",
  "colab": {
   "collapsed_sections": [],
   "name": "cross-validation.ipynb",
   "provenance": []
  },
  "kernelspec": {
   "name": "python385jvsc74a57bd02bf9bb5be2a99e5f4dd39322b0e399c7453a7e9d3842b7e9ec3bf7e97c0a7741",
   "display_name": "Python 3.8.5 64-bit ('thesis': conda)"
  },
  "language_info": {
   "codemirror_mode": {
    "name": "ipython",
    "version": 3
   },
   "file_extension": ".py",
   "mimetype": "text/x-python",
   "name": "python",
   "nbconvert_exporter": "python",
   "pygments_lexer": "ipython3",
   "version": "3.8.5"
  },
  "metadata": {
   "interpreter": {
    "hash": "2bf9bb5be2a99e5f4dd39322b0e399c7453a7e9d3842b7e9ec3bf7e97c0a7741"
   }
  }
 },
 "nbformat": 4,
 "nbformat_minor": 1
}