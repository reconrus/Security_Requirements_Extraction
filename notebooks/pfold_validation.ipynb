{
 "cells": [
  {
   "cell_type": "code",
   "execution_count": 1,
   "metadata": {
    "id": "37lRYHX8DNUb"
   },
   "outputs": [],
   "source": [
    "import os\n",
    "from IPython.display import clear_output\n",
    "os.chdir('..')"
   ]
  },
  {
   "cell_type": "code",
   "execution_count": 2,
   "metadata": {},
   "outputs": [],
   "source": [
    "os.environ[\"CONFIG\"] = \"configs/small/small_p_fold.yaml\""
   ]
  },
  {
   "cell_type": "code",
   "execution_count": 3,
   "metadata": {
    "colab": {
     "base_uri": "https://localhost:8080/"
    },
    "id": "w2IeeyYh3tcC",
    "outputId": "bc8e2587-704f-47ac-c773-a5dc292e0a85"
   },
   "outputs": [
    {
     "output_type": "stream",
     "name": "stderr",
     "text": [
      "mkdir: cannot create directory ‘raw’: File exists\n"
     ]
    }
   ],
   "source": [
    "%%bash\n",
    "cd data\n",
    "chmod +x get_dataset.sh\n",
    "./get_dataset.sh"
   ]
  },
  {
   "cell_type": "code",
   "execution_count": 4,
   "metadata": {},
   "outputs": [],
   "source": [
    "!python3 data/prepare_data.py --config_path $CONFIG \\\n",
    "    --sec_req data/raw/SecReq --promise data/raw/nfr/nfr.arff \\\n",
    "    --concord data/raw/NFRClassifier/gate/application-resources/Requirements/ \\\n",
    "    --cchit data/raw/CCHIT.xls --owasp data/raw/OWASP -o data/processed"
   ]
  },
  {
   "cell_type": "code",
   "execution_count": 5,
   "metadata": {
    "colab": {
     "base_uri": "https://localhost:8080/"
    },
    "id": "-ke_vThh2Uc8",
    "outputId": "8b387489-8ea7-43bf-9687-625b7b93dd4a",
    "tags": []
   },
   "outputs": [
    {
     "output_type": "stream",
     "name": "stdout",
     "text": [
      "['1', '2', '4', '5', '6', '7', '8', '10', '12', '13', '14', '15'] ['3', '9', '11']\n",
      "  0%|                                                  | 0/1580 [00:00<?, ?it/s]Traceback (most recent call last):\n",
      "  File \"train.py\", line 181, in <module>\n",
      "    train_and_evaluate(model_type=configuration.model_type,\n",
      "  File \"train.py\", line 145, in train_and_evaluate\n",
      "    metrics = train(model_type, epochs, labels_data, seed)\n",
      "  File \"train.py\", line 75, in train\n",
      "    trainer.train()\n",
      "  File \"/home/hawk/anaconda3/envs/thesis/lib/python3.8/site-packages/transformers/trainer.py\", line 975, in train\n",
      "    self.optimizer.step()\n",
      "  File \"/home/hawk/anaconda3/envs/thesis/lib/python3.8/site-packages/torch/optim/lr_scheduler.py\", line 65, in wrapper\n",
      "    return wrapped(*args, **kwargs)\n",
      "  File \"/home/hawk/anaconda3/envs/thesis/lib/python3.8/site-packages/torch/optim/optimizer.py\", line 89, in wrapper\n",
      "    return func(*args, **kwargs)\n",
      "  File \"/home/hawk/anaconda3/envs/thesis/lib/python3.8/site-packages/transformers/optimization.py\", line 347, in step\n",
      "    denom = exp_avg_sq.sqrt().add_(group[\"eps\"])\n",
      "RuntimeError: CUDA out of memory. Tried to allocate 20.00 MiB (GPU 0; 2.95 GiB total capacity; 831.97 MiB already allocated; 93.81 MiB free; 908.00 MiB reserved in total by PyTorch)\n",
      "  0%|                                                  | 0/1580 [00:00<?, ?it/s]\n",
      "['2', '3', '4', '6', '7', '8', '9', '10', '11', '13', '14', '15'] ['1', '5', '12']\n",
      "  0%|                                                  | 0/1580 [00:00<?, ?it/s]Traceback (most recent call last):\n",
      "  File \"train.py\", line 181, in <module>\n",
      "    train_and_evaluate(model_type=configuration.model_type,\n",
      "  File \"train.py\", line 145, in train_and_evaluate\n",
      "    metrics = train(model_type, epochs, labels_data, seed)\n",
      "  File \"train.py\", line 75, in train\n",
      "    trainer.train()\n",
      "  File \"/home/hawk/anaconda3/envs/thesis/lib/python3.8/site-packages/transformers/trainer.py\", line 975, in train\n",
      "    self.optimizer.step()\n",
      "  File \"/home/hawk/anaconda3/envs/thesis/lib/python3.8/site-packages/torch/optim/lr_scheduler.py\", line 65, in wrapper\n",
      "    return wrapped(*args, **kwargs)\n",
      "  File \"/home/hawk/anaconda3/envs/thesis/lib/python3.8/site-packages/torch/optim/optimizer.py\", line 89, in wrapper\n",
      "    return func(*args, **kwargs)\n",
      "  File \"/home/hawk/anaconda3/envs/thesis/lib/python3.8/site-packages/transformers/optimization.py\", line 347, in step\n",
      "    denom = exp_avg_sq.sqrt().add_(group[\"eps\"])\n",
      "RuntimeError: CUDA out of memory. Tried to allocate 20.00 MiB (GPU 0; 2.95 GiB total capacity; 831.97 MiB already allocated; 90.00 MiB free; 908.00 MiB reserved in total by PyTorch)\n",
      "  0%|                                                  | 0/1580 [00:00<?, ?it/s]\n",
      "['1', '2', '3', '4', '5', '7', '8', '9', '11', '12', '14', '15'] ['6', '10', '13']\n",
      "^C\n",
      "Traceback (most recent call last):\n",
      "  File \"train.py\", line 181, in <module>\n",
      "    train_and_evaluate(model_type=configuration.model_type,\n",
      "  File \"train.py\", line 145, in train_and_evaluate\n",
      "    metrics = train(model_type, epochs, labels_data, seed)\n",
      "  File \"train.py\", line 45, in train\n",
      "    model = load_model(model_type)\n",
      "  File \"train.py\", line 39, in load_model\n",
      "    model = T5ForConditionalGeneration.from_pretrained(model_path).to(device)\n",
      "  File \"/home/hawk/anaconda3/envs/thesis/lib/python3.8/site-packages/transformers/modeling_utils.py\", line 1034, in from_pretrained\n",
      "    model = cls(config, *model_args, **model_kwargs)\n",
      "  File \"/home/hawk/anaconda3/envs/thesis/lib/python3.8/site-packages/transformers/models/t5/modeling_t5.py\", line 1381, in __init__\n",
      "    self.encoder = T5Stack(encoder_config, self.shared)\n",
      "  File \"/home/hawk/anaconda3/envs/thesis/lib/python3.8/site-packages/transformers/models/t5/modeling_t5.py\", line 787, in __init__\n",
      "    [T5Block(config, has_relative_attention_bias=bool(i == 0)) for i in range(config.num_layers)]\n",
      "  File \"/home/hawk/anaconda3/envs/thesis/lib/python3.8/site-packages/transformers/models/t5/modeling_t5.py\", line 787, in <listcomp>\n",
      "    [T5Block(config, has_relative_attention_bias=bool(i == 0)) for i in range(config.num_layers)]\n",
      "  File \"/home/hawk/anaconda3/envs/thesis/lib/python3.8/site-packages/transformers/models/t5/modeling_t5.py\", line 599, in __init__\n",
      "    self.layer.append(T5LayerFF(config))\n",
      "  File \"/home/hawk/anaconda3/envs/thesis/lib/python3.8/site-packages/transformers/models/t5/modeling_t5.py\", line 286, in __init__\n",
      "    self.DenseReluDense = T5DenseReluDense(config)\n",
      "  File \"/home/hawk/anaconda3/envs/thesis/lib/python3.8/site-packages/transformers/models/t5/modeling_t5.py\", line 253, in __init__\n",
      "    self.wo = nn.Linear(config.d_ff, config.d_model, bias=False)\n",
      "  File \"/home/hawk/anaconda3/envs/thesis/lib/python3.8/site-packages/torch/nn/modules/linear.py\", line 84, in __init__\n",
      "    self.reset_parameters()\n",
      "  File \"/home/hawk/anaconda3/envs/thesis/lib/python3.8/site-packages/torch/nn/modules/linear.py\", line 87, in reset_parameters\n",
      "    init.kaiming_uniform_(self.weight, a=math.sqrt(5))\n",
      "  File \"/home/hawk/anaconda3/envs/thesis/lib/python3.8/site-packages/torch/nn/init.py\", line 379, in kaiming_uniform_\n",
      "    return tensor.uniform_(-bound, bound)\n",
      "KeyboardInterrupt\n",
      "['2', '3', '4', '5', '6', '7', '9', '10', '11', '12', '13', '15'] ['1', '8', '14']\n",
      "  0%|                                                  | 0/1580 [00:00<?, ?it/s]Traceback (most recent call last):\n",
      "  File \"train.py\", line 181, in <module>\n",
      "    train_and_evaluate(model_type=configuration.model_type,\n",
      "  File \"train.py\", line 145, in train_and_evaluate\n",
      "    metrics = train(model_type, epochs, labels_data, seed)\n",
      "  File \"train.py\", line 75, in train\n",
      "    trainer.train()\n",
      "  File \"/home/hawk/anaconda3/envs/thesis/lib/python3.8/site-packages/transformers/trainer.py\", line 975, in train\n",
      "    self.optimizer.step()\n",
      "  File \"/home/hawk/anaconda3/envs/thesis/lib/python3.8/site-packages/torch/optim/lr_scheduler.py\", line 65, in wrapper\n",
      "    return wrapped(*args, **kwargs)\n",
      "  File \"/home/hawk/anaconda3/envs/thesis/lib/python3.8/site-packages/torch/optim/optimizer.py\", line 89, in wrapper\n",
      "    return func(*args, **kwargs)\n",
      "  File \"/home/hawk/anaconda3/envs/thesis/lib/python3.8/site-packages/transformers/optimization.py\", line 347, in step\n",
      "    denom = exp_avg_sq.sqrt().add_(group[\"eps\"])\n",
      "RuntimeError: CUDA out of memory. Tried to allocate 20.00 MiB (GPU 0; 2.95 GiB total capacity; 831.97 MiB already allocated; 78.06 MiB free; 908.00 MiB reserved in total by PyTorch)\n",
      "  0%|                                                  | 0/1580 [00:00<?, ?it/s]\n",
      "['1', '2', '4', '5', '6', '7', '8', '9', '10', '11', '13', '14'] ['3', '12', '15']\n"
     ]
    }
   ],
   "source": [
    "from constants import DATASETS_CONFIG_PATH\n",
    "\n",
    "pfold = [[3, 9, 11], [1, 5, 12], [6, 10, 13], [1, 8, 14], [3, 12, 15], [2, 5, 11], [6, 9, 14], [7, 8, 13], [2, 4, 15], [4, 7, 10]]\n",
    "\n",
    "all_files = list(range(1, 16))\n",
    "\n",
    "for test_files in pfold:\n",
    "  train_files = [str(j) for j in all_files if j not in test_files]\n",
    "  test_files = list(map(str, test_files))\n",
    "  print(train_files, test_files)\n",
    "  train_files_config = \"\\n  \".join([\n",
    "    f\"    - {file_}\" for file_ in train_files\n",
    "  ])\n",
    "  test_files_config = \"\\n  \".join([\n",
    "    f\"    - {file_}\" for file_ in test_files\n",
    "  ])\n",
    "  configuration = f\"\"\"\n",
    "  train_datasets:\n",
    "    promise:\n",
    "  {train_files_config}\n",
    "  valid_datasets:\n",
    "    promise:\n",
    "  {test_files_config}\n",
    "\"\"\"\n",
    "\n",
    "  with open(DATASETS_CONFIG_PATH, \"w+\") as f:\n",
    "    f.write(configuration)\n",
    "\n",
    "  !CUBLAS_WORKSPACE_CONFIG=:4096:8 python3 train.py $CONFIG\n"
   ]
  },
  {
   "cell_type": "code",
   "execution_count": null,
   "metadata": {},
   "outputs": [],
   "source": []
  },
  {
   "cell_type": "code",
   "execution_count": null,
   "metadata": {},
   "outputs": [],
   "source": []
  }
 ],
 "metadata": {
  "accelerator": "GPU",
  "colab": {
   "collapsed_sections": [],
   "name": "pfold_validation.ipynb",
   "provenance": []
  },
  "kernelspec": {
   "name": "python385jvsc74a57bd02bf9bb5be2a99e5f4dd39322b0e399c7453a7e9d3842b7e9ec3bf7e97c0a7741",
   "display_name": "Python 3.8.5 64-bit ('thesis': conda)"
  },
  "language_info": {
   "codemirror_mode": {
    "name": "ipython",
    "version": 3
   },
   "file_extension": ".py",
   "mimetype": "text/x-python",
   "name": "python",
   "nbconvert_exporter": "python",
   "pygments_lexer": "ipython3",
   "version": "3.8.5"
  }
 },
 "nbformat": 4,
 "nbformat_minor": 1
}